{
 "cells": [
  {
   "cell_type": "markdown",
   "metadata": {},
   "source": [
    "# Group E Project - Risk Based Segmentation \n",
    "\n",
    "\n",
    "## Introduction\n",
    "\n",
    "The project is to build a class to perform risk-based segmentation and test it for car loans’ customers based on given historical data of customer behavior. Customer Risk Segmentation for car loans aims to help a company to avoid delayed/unpaid car loans by making better program selection/approval based on identified customers' characteristics for risk profile.\n",
    "\n",
    "In this study, the logistic regression technique is used to predict the outcome of target variable, \"BUCKET\", which indicates the number of unpaid installements at this reporting date.\n",
    "\n",
    "Objective (supervised) segmentation method,Chi-square Automatic Interaction Detector (CHAID), is applied, taking binary transfromed \"BUCKET\" as the basis for segmentation. Separate logistic regression models are tuned and created for separate segments. As the objective-based segments must have a higher degree spread between 1/0 for the target variable, a variance threshold of 0.1 is set in the method to further verify if a segmentation point identified by CHAID method is meaningful. \n",
    "\n",
    "### Video Demo\n",
    "https://youtu.be/9hbsn3EJezg\n",
    "\n",
    "### CustomDF() and RiskDataframe()\n",
    "https://pypi.org/project/expelliarmusBANANA/\n",
    "The powerful **CustomDF()** class has 15+ methods to:\n",
    "\n",
    "| Purpose   | Method |\n",
    "|  :----  |    :----         |\n",
    "|Select a subset of dataset based on a column list|select(column)|\n",
    "|Return a list of column names by data type|get_columns_bydtype()|\n",
    "|Assign correct data type to columns through a dictionary|SetAttributes()|\n",
    "|Check columns with missing values' percentage|check_missing()|\n",
    "|Check and drop duplicated rows|check_duplicated()|\n",
    "|Check columns with a single value|homogenous_col()|\n",
    "|Dropping rows with NaN\t|drop_row_with_nas()|\n",
    "|Filter columns with NaN by threshold, then drop columns| filter_threshold(threshold, more_or_less),drop_columns()\n",
    "|Automatic Fill NaN based on dtype (0 /\"UNKNOWN\")|fill_na_bytype()|\n",
    "|Manually Fill NaN with a specific value| fill_na(columns,value)|\n",
    "|Drop a specific column or a list of columns |drop_columns(columns_list)|\n",
    "|To dummy variables|to_dummies()|\n",
    "|Encoding Binary variables|encode_binary()|\n",
    "|Find binary variables in a list|find_binary()|\n",
    "|Calcuate difference between datetimes|date_difference(begin,end,form,new_name)|\n",
    "|4 numerical calcualtion|calculation(a, b, new_name, method)|\n",
    "|Extract regular expression from a multi-labeled column|extractinfo(column,re_expression,new_name)|\n",
    "|Group: Redefine several values with a specific value|redefine_group( column, old_values, new_value)|\n",
    "|Correlation: find a list of columns that are correlated with given threshold|find_corr(numeric_variables,target,threshold=0.75)|\n",
    "|Find Split based on CHAID|find_split()|\n",
    "|Find a list of columns that are MISSING NOT AT RANDOM with a given threshold|missing_not_at_random()|\n",
    "  \n",
    "**RiskDataframe()** is specifically created to build an objective segmentation using CHAID for risk-involved Customer Segmentation.\n",
    "\n",
    "Methods follow a workflow:\n",
    "\n",
    "1. observation_rate(): transform into numeric values with the probability of being class 1 (target) [Applicable to Non-binary variables]\n",
    "2. to_split(), find_split() Using CHAID decision tree to find statistically significant split (based on full file, thin file or a given list of input variables defined by End User) [Applicable to both numeric and non-binary variables]\n",
    "3. binary_split(): transform the variable into a binary class 1=(>split point), 0=(<split point). [Applicable to both numeric and non-binary variables]\n",
    "4. For each variable in full file, thin file or a given list of input variables,create Segment 1 and Segment 2 according to the binary class.\n",
    "5. candidate_split_analysis():Create parameter tuned [lg_gridsearch()] Logistic Regression models for Full Population, Seg1 and Seg2,\n",
    "6. find_segment_split()Create GINI Coefficients and compare the result to identify:\n",
    "      Variable that is BEST Segmentation\n",
    "      Variable that is Bad for segmentation but could be good for modeling\n",
    "      Variable that is BAD for segmentation AND modeling \n",
    "7. Others: split_train() to split test/train\n"
   ]
  },
  {
   "cell_type": "markdown",
   "metadata": {},
   "source": [
    "### DATA CLEANNING\n",
    "\n",
    "Prepare the data to apply to the missing_not_at_random and find_segment_split\n",
    "methods.\n",
    "\n",
    "* \"BINARIZED_TARGET\" is selected and transformed in to 1/0 class.\n",
    "* Select only one customer ID\n",
    "* Set datatype of datetime for all DATE variables and transform them into meaningful numerical variables\n",
    "* Check correlation for numerical variables, if there is any, transform them.\n"
   ]
  },
  {
   "cell_type": "code",
   "execution_count": 1,
   "metadata": {},
   "outputs": [
    {
     "name": "stdout",
     "output_type": "stream",
     "text": [
      "Requirement already satisfied: expelliarmusBANANA in /opt/anaconda3/lib/python3.8/site-packages (0.1.1)\n",
      "Note: you may need to restart the kernel to use updated packages.\n"
     ]
    }
   ],
   "source": [
    "pip install expelliarmusBANANA"
   ]
  },
  {
   "cell_type": "code",
   "execution_count": 2,
   "metadata": {},
   "outputs": [],
   "source": [
    "import warnings\n",
    "warnings.filterwarnings(\"ignore\")"
   ]
  },
  {
   "cell_type": "code",
   "execution_count": 3,
   "metadata": {},
   "outputs": [
    {
     "data": {
      "text/plain": [
       "(38396, 12)"
      ]
     },
     "execution_count": 3,
     "metadata": {},
     "output_type": "execute_result"
    }
   ],
   "source": [
    "import pandas as pd\n",
    "import numpy as np\n",
    "\n",
    "\n",
    "import expelliarmusBANANA as nm\n",
    "'''\n",
    "Two classes are defined: \n",
    ">CustomDF() to clean and prepare data\n",
    ">RiskDataframe() to perform risk-based segmentation split and analysis\n",
    "\n",
    "'''\n",
    "\n",
    "dataframe = pd.read_csv(\"AUTO_LOANS_DATA.csv\", sep=\";\")\n",
    "dataframe['BINARIZED_TARGET'] = dataframe['BUCKET'].apply(lambda x: 1 if x>0 else 0)\n",
    "\n",
    "# PERFORM RAW DATA CLEANING \n",
    "dataframe.sort_values(by=['LOAN_OPEN_DATE'])\n",
    "dataframe.drop_duplicates('CUSTOMER_ID', keep = 'last', inplace = True)\n",
    "dataframe.drop('ACCOUNT_NUMBER', inplace=True, axis=1)\n",
    "dataframe.drop('BUCKET',inplace=True,axis=1)\n",
    "dataframe.drop('CUSTOMER_ID',inplace=True,axis=1)\n",
    "\n",
    "\n",
    "\n",
    "# DEFINE df AS CustomDF(), which include methods to \"data handling\"\n",
    "df =nm.CustomDF()\n",
    "df.set_df(dataframe)\n",
    "df.data.shape\n"
   ]
  },
  {
   "cell_type": "code",
   "execution_count": 4,
   "metadata": {},
   "outputs": [
    {
     "data": {
      "text/plain": [
       "Index(['REPORTING_DATE', 'PROGRAM_NAME', 'LOAN_OPEN_DATE',\n",
       "       'EXPECTED_CLOSE_DATE', 'ORIGINAL_BOOKED_AMOUNT', 'OUTSTANDING', 'SEX',\n",
       "       'CUSTOMER_OPEN_DATE', 'BIRTH_DATE', 'PROFESSION', 'CAR_TYPE',\n",
       "       'BINARIZED_TARGET'],\n",
       "      dtype='object')"
      ]
     },
     "execution_count": 4,
     "metadata": {},
     "output_type": "execute_result"
    }
   ],
   "source": [
    "df.data.columns"
   ]
  },
  {
   "cell_type": "code",
   "execution_count": 5,
   "metadata": {},
   "outputs": [
    {
     "data": {
      "text/plain": [
       "REPORTING_DATE             object\n",
       "PROGRAM_NAME               object\n",
       "LOAN_OPEN_DATE             object\n",
       "EXPECTED_CLOSE_DATE        object\n",
       "ORIGINAL_BOOKED_AMOUNT    float64\n",
       "OUTSTANDING               float64\n",
       "SEX                        object\n",
       "CUSTOMER_OPEN_DATE         object\n",
       "BIRTH_DATE                 object\n",
       "PROFESSION                 object\n",
       "CAR_TYPE                   object\n",
       "BINARIZED_TARGET            int64\n",
       "dtype: object"
      ]
     },
     "execution_count": 5,
     "metadata": {},
     "output_type": "execute_result"
    }
   ],
   "source": [
    "df.data.dtypes"
   ]
  },
  {
   "cell_type": "markdown",
   "metadata": {},
   "source": [
    "### Setting the types\n"
   ]
  },
  {
   "cell_type": "code",
   "execution_count": 6,
   "metadata": {},
   "outputs": [],
   "source": [
    "# Setting the types\n",
    "argument_dict = {'REPORTING_DATE':'datetime64[ns]','LOAN_OPEN_DATE':'datetime64[ns]',\n",
    "                 'EXPECTED_CLOSE_DATE':'datetime64[ns]','CUSTOMER_OPEN_DATE':'datetime64[ns]',\n",
    "                 'BIRTH_DATE':'datetime64[ns]','PROGRAM_NAME':'object','SEX':'object',\n",
    "                'PROFESSION':'object','CAR_TYPE':'object',\"BINARIZED_TARGET\":\"object\"}\n",
    "df.SetAttributes(argument_dict)"
   ]
  },
  {
   "cell_type": "code",
   "execution_count": 7,
   "metadata": {},
   "outputs": [
    {
     "data": {
      "text/plain": [
       "REPORTING_DATE            datetime64[ns]\n",
       "PROGRAM_NAME                      object\n",
       "LOAN_OPEN_DATE            datetime64[ns]\n",
       "EXPECTED_CLOSE_DATE       datetime64[ns]\n",
       "ORIGINAL_BOOKED_AMOUNT           float64\n",
       "OUTSTANDING                      float64\n",
       "SEX                               object\n",
       "CUSTOMER_OPEN_DATE        datetime64[ns]\n",
       "BIRTH_DATE                datetime64[ns]\n",
       "PROFESSION                        object\n",
       "CAR_TYPE                          object\n",
       "BINARIZED_TARGET                  object\n",
       "dtype: object"
      ]
     },
     "execution_count": 7,
     "metadata": {},
     "output_type": "execute_result"
    }
   ],
   "source": [
    "df.data.dtypes"
   ]
  },
  {
   "cell_type": "markdown",
   "metadata": {},
   "source": [
    "### Transforming Features"
   ]
  },
  {
   "cell_type": "markdown",
   "metadata": {},
   "source": [
    "#### \"datetime\""
   ]
  },
  {
   "cell_type": "code",
   "execution_count": 8,
   "metadata": {},
   "outputs": [
    {
     "data": {
      "text/plain": [
       "<expelliarmusBANANA.CustomDF at 0x7fc47895f340>"
      ]
     },
     "execution_count": 8,
     "metadata": {},
     "output_type": "execute_result"
    }
   ],
   "source": [
    "# On Date related: To get \"AGE\" in years,\"TOTAL_LOAN_TERM\" in months\n",
    "df.date_difference('BIRTH_DATE','REPORTING_DATE','year','AGE')\n",
    "df.date_difference('LOAN_OPEN_DATE','EXPECTED_CLOSE_DATE','month','TOTAL_LOAN_TERM')\n",
    "\n",
    "#drop columns in datetimes\n",
    "datetime_ls=df.get_columns_bydtype(\"datetime64[ns]\")\n",
    "df.drop_columns(datetime_ls)"
   ]
  },
  {
   "cell_type": "markdown",
   "metadata": {},
   "source": [
    "#### Numeric"
   ]
  },
  {
   "cell_type": "code",
   "execution_count": 9,
   "metadata": {},
   "outputs": [
    {
     "name": "stdout",
     "output_type": "stream",
     "text": [
      "At threshold of 0.75,these variables are identified: ['ORIGINAL_BOOKED_AMOUNT', 'OUTSTANDING']\n"
     ]
    },
    {
     "data": {
      "text/plain": [
       "['ORIGINAL_BOOKED_AMOUNT', 'OUTSTANDING']"
      ]
     },
     "execution_count": 9,
     "metadata": {},
     "output_type": "execute_result"
    },
    {
     "data": {
      "image/png": "[encoded data removed]",
      "text/plain": [
       "<Figure size 432x288 with 2 Axes>"
      ]
     },
     "metadata": {
      "needs_background": "light"
     },
     "output_type": "display_data"
    }
   ],
   "source": [
    "df.find_corr(threshold=0.75)"
   ]
  },
  {
   "cell_type": "code",
   "execution_count": 10,
   "metadata": {},
   "outputs": [
    {
     "name": "stdout",
     "output_type": "stream",
     "text": [
      "There is no correlated numeric variables.\n"
     ]
    }
   ],
   "source": [
    "df.calculation('ORIGINAL_BOOKED_AMOUNT','TOTAL_LOAN_TERM',\"INSTALLMENT_SIZE\",\"/\")\n",
    "df.drop_columns(['ORIGINAL_BOOKED_AMOUNT'])\n",
    "df.find_corr(threshold=0.75)"
   ]
  },
  {
   "cell_type": "markdown",
   "metadata": {},
   "source": [
    "#### Categorical"
   ]
  },
  {
   "cell_type": "code",
   "execution_count": 11,
   "metadata": {},
   "outputs": [],
   "source": [
    "target='BINARIZED_TARGET'\n",
    "categorical_variables = df.get_columns_bydtype(['object'], target,ignore_target = True)\n",
    "numeric_variables = df.get_columns_bydtype([\"float64\", \"int64\"],target, ignore_target = True)"
   ]
  },
  {
   "cell_type": "code",
   "execution_count": 12,
   "metadata": {},
   "outputs": [
    {
     "data": {
      "text/plain": [
       "['PROGRAM_NAME', 'SEX', 'PROFESSION', 'CAR_TYPE']"
      ]
     },
     "execution_count": 12,
     "metadata": {},
     "output_type": "execute_result"
    }
   ],
   "source": [
    "categorical_variables"
   ]
  },
  {
   "cell_type": "markdown",
   "metadata": {},
   "source": [
    "# Part II) Risk-based segmentation process:\n",
    "#### Data cleaning is done prior to this step: \n",
    ">datetime types are transformed into numerical variables and there is no correlation between numeric variables at given threshold. \n",
    "\n",
    "* All the variables are either **numeric** or **categorical**.\n",
    "* A **binary target** should be selected and transform it into 0 and 1 class. \n",
    "* **Warning**: PLEASE DO NOT modify any missing values as a **Missing Not At Random analysis** is going to be performed. \n",
    "\n",
    "#### 1) Missing Not At Random Analysis\n",
    "To identify different potential segments based on Missing Not At Random method, a report is printed with two lists of variables, **full_file** and **thin_file**.\n",
    ">Missing Not At Random Research: https://towardsdatascience.com/statistical-test-for-mcar-in-python-9fb617a76eac"
   ]
  },
  {
   "cell_type": "code",
   "execution_count": 13,
   "metadata": {},
   "outputs": [
    {
     "name": "stdout",
     "output_type": "stream",
     "text": [
      "CAR_TYPE      5.60\n",
      "PROFESSION    0.12\n",
      "AGE           0.03\n",
      "SEX           0.02\n",
      "dtype: float64\n"
     ]
    }
   ],
   "source": [
    "df.check_missing()\n",
    "profile=pd.DataFrame(df.data.copy()) #Make a copy of the df.data prior to perform missing not at random analysis"
   ]
  },
  {
   "cell_type": "code",
   "execution_count": 14,
   "metadata": {},
   "outputs": [
    {
     "name": "stdout",
     "output_type": "stream",
     "text": [
      "--------------------------------------------------\n",
      "\u001b[1m Missing Not At Random Report  \u001b[0m\n",
      "--------------------------------------------------\n",
      "\u001b[1m> Missing Not At Random Features are: \u001b[0mAGE,SEX at threshold 0.9\n",
      "\n",
      "\n",
      "\u001b[1m>> Target is \u001b[0mBINARIZED_TARGET. Therefore we recommend:\n",
      "\n",
      "\n",
      "\u001b[1m>> Thin File Segmentation Variables are: \u001b[0m CAR_TYPE, INSTALLMENT_SIZE, OUTSTANDING, PROFESSION, PROGRAM_NAME, TOTAL_LOAN_TERM\n",
      "\n",
      "\n",
      "\u001b[1m>> Full File Segmentation Variables are: \u001b[0m AGE, CAR_TYPE, INSTALLMENT_SIZE, OUTSTANDING, PROFESSION, PROGRAM_NAME, SEX, TOTAL_LOAN_TERM\n"
     ]
    }
   ],
   "source": [
    "missing_variables=list(df.data.columns[df.data.isna().sum()!=0])\n",
    "full_file,thin_file=df.missing_not_at_random(missing_variables,target,0.9)"
   ]
  },
  {
   "cell_type": "code",
   "execution_count": 15,
   "metadata": {},
   "outputs": [],
   "source": [
    "df.set_df(profile)"
   ]
  },
  {
   "cell_type": "code",
   "execution_count": 16,
   "metadata": {},
   "outputs": [
    {
     "name": "stdout",
     "output_type": "stream",
     "text": [
      "Binary encoding is done for: ['BINARIZED_TARGET'].\n",
      "There is no missing variable.\n"
     ]
    }
   ],
   "source": [
    "df.drop_row_with_nas('SEX')\n",
    "df.drop_row_with_nas('AGE')\n",
    "df.fill_na(categorical_variables,'UNKNOWN')\n",
    "df.encode_binary([target])\n",
    "df.check_missing()"
   ]
  },
  {
   "cell_type": "code",
   "execution_count": 17,
   "metadata": {},
   "outputs": [],
   "source": [
    "#Before performing Risk Segmentation Analysis a copy of the df.data should be created to be accessed later for other profile variables.\n",
    "origindf=pd.DataFrame(df.data.copy())"
   ]
  },
  {
   "cell_type": "markdown",
   "metadata": {},
   "source": [
    "#### 2) Find the statistically significant segment \n",
    "Prior to this step:\n",
    "> All missing values need to be treated and binary target variable encoded to 1/0 as int, through several methods in CustomDF():\n",
    "\n",
    "| Purpose   | Method |\n",
    "|  :----  |    :----         |\n",
    "|Dropping rows with NaN\t|drop_row_with_nas(),|\n",
    "|Filter columns with NaN by threshold, then drop columns| filter_threshold(threshold, more_or_less),drop_columns()\n",
    "|Automatic Fill NaN|fill_na_bytype()|\n",
    "|Manually Fill NaN| fill_na(columns,value)|\n",
    "|Encoding Binary variables|encode_binary()|\n",
    "\n",
    "* Passing on df,target,full_file and thin_file into **RiskDataframe()** class\n",
    "\n",
    "**Before applying find_segment_split() method**, please make sure all categorical variables that are not target remain as object or categorical types\n",
    "\n",
    "> **ORDERED_NOMINAL**: If a categorical nominal has a meaningful order, store the feature's name into \"ordered_nominal\"\n",
    "\n",
    "> **CANDIDATE**: If there is specific feature to be studied, instead of running all features in the full_file list, please specify them in candidate=[]\n",
    "\n",
    ">**INPUT_VARS**: If there are specific features needed to be used as input variables, instead of full_file, please indicate in input_vars. If thin_file wants to be used, please set input_vars='thin'\n",
    "\n",
    "**find_segment_split() method:**\n",
    "* **Non-binary variables** are transformed into numerical by replacing the categories by the Probability of belonging to class 1 (order does not matter); and labelencoding for categorical variables that have meaningful orders.\n",
    "* Find **statistically significant split** by Chi-Squared Automatic Inference Detection (CHAID) decision tree (https://github.com/Rambatino/CHAID) for both numeric columns and non-binary categorical columns.\n",
    "* According to the split,transform all variables into binary (1/0), and generate two lists of categorical labels that separated by the splitting point.\n",
    "* Test GINI performance through **candidate_split_analysis()**, where the parameters for the logisitical regression model is tuned for the X_train/y_train accordingly. \n",
    "\n",
    "**The analysis identifies three characteristics**\n",
    ">**BEST SEGMENTATION** where for BOTH segments, the segment model GINI Coefficients ARE ALL better than that of the FULL POPULATION model\n",
    "\n",
    ">**GOOD for MODELING** though not the best segmentation but for one segment, the FULL MODEL on BOTH SEGMENTS GINI Coefficients are BETTER than the FULL MODEL on FULL POPULATION \n",
    "\n",
    ">**BAD for SEG AND BAD for MODELING**\n",
    "\n",
    "* NOTE: if there is a CHAID split but the binary variable after transformation has less than 0.1 of variance, the candidate variable does not have a good split.\n"
   ]
  },
  {
   "cell_type": "code",
   "execution_count": 18,
   "metadata": {},
   "outputs": [
    {
     "name": "stdout",
     "output_type": "stream",
     "text": [
      "\u001b[1mSegmentation Analysis: Variable by Variable Check for \u001b[0m['PROGRAM_NAME', 'OUTSTANDING', 'SEX', 'PROFESSION', 'CAR_TYPE', 'AGE', 'TOTAL_LOAN_TERM', 'INSTALLMENT_SIZE']\n",
      "----------------------------------------------------------------------------------------------------\n",
      "\u001b[1mNot good segmentation found for: PROGRAM_NAME,but should be a good feature in modeling.\u001b[0m\n",
      "\n",
      "\n",
      "\u001b[1m>>Segment 1: PROGRAM_NAME\u001b[0m in (['Auto Loans 50% Down Payment - Employed', 'Auto Loans 50% Down Payment - Self Employed', 'Auto Loans 30% Down Payment - Employed'])\u001b[1m [GINI Full Model: 32.6060% / GINI Segmented Model: 32.6244%]\u001b[0m\n",
      "\u001b[1m>>Segment 2: PROGRAM_NAME\u001b[0m in (['Auto Loans 40% Down Payment - Employed', 'Auto Loans 40% Down Payment - Self Employed', 'Auto Loans 30% Down Payment - Self Employed', 'Pick Up and Small Trucks', 'Auto Loans Special Deals', 'Auto Loans Payroll Clients', 'Auto Loans 20% Down Payment - Employed', 'Auto Loans 20% Down Payment - Self Employed', 'Auto Loans Doctors - Employed', 'Auto Loans 50% Down Payment No Car Prohibition - Employed', 'Auto Loans 50% Down Payment No Car Prohibition - Self Employed', 'Auto Loans Fully Secured', 'Auto Loans Secured against CD', 'Auto Loans Doctors - Self Employed', 'Auto Loans Run Off - Self Employed', 'Auto Loans 50% Down Payment Used Cars - Employed', 'Auto Loans Run Off - Employed', 'Auto Loans 30% Down Payment Used Cars - Self Employed', 'Auto Loans 50% Down Payment Used Cars - Self Employed', 'Auto Loans 30% Down Payment Used Cars - Employed'])\u001b[1m [GINI Full Model: 28.9421% / GINI Segmented Model: 28.2925%]\u001b[0m\n",
      "\n",
      "\n",
      "----------------------------------------------------------------------------------------------------\n",
      "After analysis, OUTSTANDING segmented by [\u001b[1m > 33622.18301828792] / [ < 33622.18301828792\u001b[0m] is not good for segmentation nor ideal for modeling.\n",
      "\n",
      "\n",
      "----------------------------------------------------------------------------------------------------\n",
      "\u001b[1mNot good segmentation found for: SEX,but should be a good feature in modeling.\u001b[0m\n",
      "\n",
      "\n",
      "\u001b[1m>>Segment 1: SEX\u001b[0m in (M)\u001b[1m [GINI Full Model: 32.1627% / GINI Segmented Model: 31.6210%]\u001b[0m\n",
      "\u001b[1m>>Segment 2: SEX\u001b[0m in (F)\u001b[1m [GINI Full Model: 30.8930% / GINI Segmented Model: 30.8321%]\u001b[0m\n",
      "\n",
      "\n",
      "----------------------------------------------------------------------------------------------------\n",
      "\u001b[1mNot good segmentation found for: PROFESSION,but should be a good feature in modeling.\u001b[0m\n",
      "\n",
      "\n",
      "\u001b[1m>>Segment 1: PROFESSION\u001b[0m in (['EMPLOYEE', 'Company Owner'])\u001b[1m [GINI Full Model: 28.5792% / GINI Segmented Model: 28.2657%]\u001b[0m\n",
      "\u001b[1m>>Segment 2: PROFESSION\u001b[0m in (['Manager', 'Shop Owner', 'Instructor / Teacher', 'HOUSEWIFE', 'Accountant - Employee', 'ENGINEER', 'DOCTOR', 'RETIRED', 'Contractor', 'PHARMACIST', 'Unemployed', 'NURSE', 'TECHNICIAN', 'SECRETARY', 'Business Man / Trader', 'Landlord', 'PROFESSORS', 'BANKER', 'JEWELLER', 'TOUR LEADER', 'Journalist', 'DRIVER', 'RELIGION PERSON', 'CHEMIST', 'ARTIST', 'UNKNOWN', 'Athletes', 'Broadcast / Media', 'Car / Boat Agency / Deale', 'Craftsman', 'STUDENT', 'Lawyer ? Self Employer', 'Hostess', 'Consultant', 'Bazaar Shop Owner', 'Lawyer ? Employee', 'DIVER', 'CAE - Current Staff', 'Police Officer', 'Pilot', 'Real Estate Broker / Agen', 'Military Officer', 'AGRARIAN', 'PRESS', 'CAE Ex-Staff Less Than 10', 'CAE IBS Staff', 'Hotel Manager', 'Politician', 'ECONOMIST', 'PUBLISHER'])\u001b[1m [GINI Full Model: 33.8069% / GINI Segmented Model: 34.1627%]\u001b[0m\n",
      "\n",
      "\n",
      "----------------------------------------------------------------------------------------------------\n",
      "There is no statistically significant split found for candidate \u001b[1mCAR_TYPE\u001b[0m, with variance (<0.1).\n",
      "----------------------------------------------------------------------------------------------------\n",
      "----------------------------------------------------------------------------------------------------\n",
      "After analysis, AGE segmented by [\u001b[1m > 40.65672238372093] / [ < 40.65672238372093\u001b[0m] is not good for segmentation nor ideal for modeling.\n",
      "\n",
      "\n",
      "----------------------------------------------------------------------------------------------------\n",
      "After analysis, TOTAL_LOAN_TERM segmented by [\u001b[1m > 54.85124785077893] / [ < 54.85124785077893\u001b[0m] is not good for segmentation nor ideal for modeling.\n",
      "\n",
      "\n",
      "----------------------------------------------------------------------------------------------------\n",
      "\u001b[1mNot good segmentation found for: INSTALLMENT_SIZE,but should be a good feature in modeling.\u001b[0m\n",
      "\n",
      "\n",
      "\u001b[1m>>Segment 1: INSTALLMENT_SIZE\u001b[0m in ( > 1929.985807614468)\u001b[1m [GINI Full Model: 38.5206% / GINI Segmented Model: 37.7043%]\u001b[0m\n",
      "\u001b[1m>>Segment 2: INSTALLMENT_SIZE\u001b[0m in ( < 1929.985807614468)\u001b[1m [GINI Full Model: 26.5076% / GINI Segmented Model: 26.8494%]\u001b[0m\n",
      "\n",
      "\n"
     ]
    }
   ],
   "source": [
    "##Generate REPORT for FULL FILE\n",
    "dfsg=nm.RiskDataframe()\n",
    "dfsg.set_df(df,target,full_file,thin_file)\n",
    "dfsg.find_segment_split()"
   ]
  },
  {
   "cell_type": "code",
   "execution_count": 19,
   "metadata": {},
   "outputs": [
    {
     "name": "stdout",
     "output_type": "stream",
     "text": [
      "\u001b[1mSegmentation Analysis: Variable by Variable Check for \u001b[0m['TOTAL_LOAN_TERM', 'OUTSTANDING', 'CAR_TYPE', 'INSTALLMENT_SIZE', 'PROGRAM_NAME', 'PROFESSION']\n",
      "----------------------------------------------------------------------------------------------------\n",
      "There is no statistically significant split found for candidate \u001b[1mPROGRAM_NAME\u001b[0m, with variance (<0.1).\n",
      "----------------------------------------------------------------------------------------------------\n",
      "----------------------------------------------------------------------------------------------------\n",
      "After analysis, OUTSTANDING segmented by [\u001b[1m > 0] / [ < 0\u001b[0m] is not good for segmentation nor ideal for modeling.\n",
      "\n",
      "\n",
      "----------------------------------------------------------------------------------------------------\n",
      "\u001b[1mBEST segmentation found for: SEX\u001b[0m\n",
      "\n",
      "\n",
      "\u001b[1m>>Segment 1: SEX\u001b[0m in (M)\u001b[1m [GINI Full Model: 34.2872% / GINI Segmented Model: 34.3110%]\u001b[0m\n",
      "\n",
      "\n",
      "\u001b[1m>>Segment 2: SEX\u001b[0m in (F)\u001b[1m [GINI Full Model: 37.3911% / GINI Segmented Model: 37.4568%]\u001b[0m\n",
      "\n",
      "\n",
      "----------------------------------------------------------------------------------------------------\n",
      "There is no statistically significant split found for candidate \u001b[1mPROFESSION\u001b[0m, with variance (<0.1).\n",
      "----------------------------------------------------------------------------------------------------\n",
      "----------------------------------------------------------------------------------------------------\n",
      "There is no statistically significant split found for candidate \u001b[1mCAR_TYPE\u001b[0m, with variance (<0.1).\n",
      "----------------------------------------------------------------------------------------------------\n",
      "----------------------------------------------------------------------------------------------------\n",
      "There is no statistically significant split found for candidate \u001b[1mAGE\u001b[0m, with variance (<0.1).\n",
      "----------------------------------------------------------------------------------------------------\n",
      "----------------------------------------------------------------------------------------------------\n",
      "There is no statistically significant split found for candidate \u001b[1mTOTAL_LOAN_TERM\u001b[0m, with variance (<0.1).\n",
      "----------------------------------------------------------------------------------------------------\n",
      "----------------------------------------------------------------------------------------------------\n",
      "There is no statistically significant split found for candidate \u001b[1mINSTALLMENT_SIZE\u001b[0m, with variance (<0.1).\n",
      "----------------------------------------------------------------------------------------------------\n"
     ]
    }
   ],
   "source": [
    "##Generate REPORT for THIN FILE\n",
    "df2=nm.CustomDF()\n",
    "df2.set_df(origindf)\n",
    "dfsg2=nm.RiskDataframe()\n",
    "dfsg2.set_df(df2,target,full_file,thin_file)\n",
    "dfsg2.find_segment_split(input_vars=dfsg2.thin)"
   ]
  },
  {
   "cell_type": "markdown",
   "metadata": {},
   "source": [
    "## CONCLUSION:\n",
    "### Full File:\n",
    "> **['PROGRAM_NAME', 'SEX', 'PROFESSION', 'INSTALLMENT_SIZE']** are not good for segmentation but may be good features for modeling purposes.\n",
    "\n",
    "> **['AGE', 'TOTAL_LOAN_TERM','OUTSTANDING']** are not good for segmentation nor for modeling\n",
    "\n",
    "> **['CAR_TYPE']** no a statistically significant split is found.\n",
    "\n",
    "### Thin File:\n",
    "> **['SEX']** is found to be a BEST segmentation variable.\n",
    "\n",
    "> **['OUTSTANDING']** are not good for segmentation nor for modeling\n",
    "\n",
    "> **['CAR_TYPE','PROFESSION','INSTALLMENT_SIZE','AGE','PROFESSION','PROGRAM_NAME']** no a statistically significant split is found."
   ]
  },
  {
   "cell_type": "markdown",
   "metadata": {},
   "source": [
    "---"
   ]
  }
 ],
 "metadata": {
  "kernelspec": {
   "display_name": "Python 3",
   "language": "python",
   "name": "python3"
  },
  "language_info": {
   "codemirror_mode": {
    "name": "ipython",
    "version": 3
   },
   "file_extension": ".py",
   "mimetype": "text/x-python",
   "name": "python",
   "nbconvert_exporter": "python",
   "pygments_lexer": "ipython3",
   "version": "3.8.5"
  }
 },
 "nbformat": 4,
 "nbformat_minor": 4
}
